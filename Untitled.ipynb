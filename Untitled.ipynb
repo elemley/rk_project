{
 "cells": [
  {
   "cell_type": "markdown",
   "metadata": {},
   "source": [
    "# Using Runge-Kutta with a Second Order ODE\n",
    "\n",
    "Consider the following ODE:\n",
    "\n",
    "$ a_0(x) y + a_1(x) y' + a_2(x) y'' + b(x) = 0$\n",
    "\n",
    "Our usual first step is to rearrange this:\n",
    "\n",
    "\n",
    "\n",
    "$\\frac{d^2y}{dx^2} = f(x,y,\\frac{dy}{dx})$\n",
    "\n",
    "Let's say you want to solve such an ODE over the domain $[a,b]$. For an initial value problem you need the value of $y$ and $\\frac{dy}{dx}$ at the first point in the domain, $a$.\n",
    "\n",
    "$\\large y(a) = A~~~$ and $~~~\\large \\frac{dy}{dx}\\rvert_{x=a} = B$\n",
    "\n",
    "What we do now is transform the 2nd order ODE into two first order ODEs as follows:\n",
    "\n",
    "First define, $w$\n",
    "\n",
    "$\\large w = \\frac{dy}{dx}$\n",
    "\n",
    "So that now the original equation can be written as:\n",
    "\n",
    "$\\large \\frac{dw}{dx} = \\frac{d^2y}{dx^2}$\n",
    "\n",
    "\n",
    "Now the IVP us transformed to solving the two following ODEs:\n",
    "\n",
    "\n",
    "$\\large \\frac{dy}{dx} = w~~~~~~y(a) = A$\n",
    "\n",
    "$\\large \\frac{dw}{dx} = f(x,y,w)~~~~~w(a)=B$\n",
    "\n",
    "Now we can solve these two ODEs simultaneously using any of the techniques we have used before: Heun's method, RK, etc...\n",
    "\n"
   ]
  },
  {
   "cell_type": "code",
   "execution_count": null,
   "metadata": {},
   "outputs": [],
   "source": []
  }
 ],
 "metadata": {
  "kernelspec": {
   "display_name": "Python 3",
   "language": "python",
   "name": "python3"
  },
  "language_info": {
   "codemirror_mode": {
    "name": "ipython",
    "version": 3
   },
   "file_extension": ".py",
   "mimetype": "text/x-python",
   "name": "python",
   "nbconvert_exporter": "python",
   "pygments_lexer": "ipython3",
   "version": "3.8.6"
  }
 },
 "nbformat": 4,
 "nbformat_minor": 4
}
